{
 "cells": [
  {
   "cell_type": "code",
   "execution_count": 12,
   "id": "d41c1f89",
   "metadata": {},
   "outputs": [
    {
     "name": "stdout",
     "output_type": "stream",
     "text": [
      "roi = (0, 0, 0, 0)\n",
      "(756, 1008, 3)\n"
     ]
    }
   ],
   "source": [
    "import cv2\n",
    "\n",
    "src = cv2.imread('./Open/t03/1.jpg')\n",
    "# resized = cv2.resize(src, dsize=(0,0), fx = 0.25, fy = 0.25, interpolation=cv2.INTER_LINEAR)\n",
    "\n",
    "roi = cv2.selectROI(src)\n",
    "print('roi =', roi)\t# (x 시작 지점, y 시작 지점, width, height)\n",
    "print(resized.shape)\n",
    " \n",
    "cv2.waitKey()\n",
    "cv2.destroyAllWindows()"
   ]
  },
  {
   "cell_type": "code",
   "execution_count": 60,
   "id": "afa67daa",
   "metadata": {},
   "outputs": [],
   "source": [
    "import cv2\n",
    "import numpy as np\n",
    "\n",
    "for i in range(1, 31):\n",
    "    if(i < 10):\n",
    "        img = cv2.imread('./Open/t0{}/5.jpg'.format(i),0)\n",
    "    else:\n",
    "        img = cv2.imread('./Open/t{}/5.jpg'.format(i), 0)\n",
    "    img = cv2.resize(img, dsize=(0,0), fx = 0.25, fy = 0.25, interpolation=cv2.INTER_LINEAR)\n",
    "    # img = cv2.medianBlur(img,5)\n",
    "    cimg = cv2.cvtColor(img,cv2.COLOR_GRAY2BGR)\n",
    "    circles = cv2.HoughCircles(img,cv2.HOUGH_GRADIENT,1,700,\n",
    "                                param1=50,param2=30,minRadius=300,maxRadius=400)\n",
    "    circles = np.uint16(np.around(circles))\n",
    "    \n",
    "    if len(circles) == 1:\n",
    "        x, y, r = circles[0][0]\n",
    "#         print x, y, r\n",
    "        mask = np.zeros((img.shape[0],img.shape[1]),dtype=np.uint8)\n",
    "        cv2.circle(mask,(x,y),r,(255,255,255),-1,8,0)\n",
    "#         cv2.imwrite(argv[2],mask)\n",
    "        out = img*mask\n",
    "        white = 255-mask\n",
    "        cv2.imwrite('./circles_crop/{}.png'.format(i),out+white)\n",
    "    \n",
    "#     for j in circles[0,:]:\n",
    "#         cv2.circle(cimg,(j[0],j[1]),j[2],(0,255,0),2)\n",
    "#     cv2.imshow('detected circles',cimg)\n",
    "#     cv2.imwrite('./circles/{}.png'.format(i), cimg)\n",
    "    cv2.waitKey(0)\n",
    "    cv2.destroyAllWindows()"
   ]
  },
  {
   "cell_type": "code",
   "execution_count": 199,
   "id": "db5b3af0",
   "metadata": {},
   "outputs": [],
   "source": [
    "for i in range(1, 31):\n",
    "    if(i < 10):\n",
    "        img = cv2.imread('./Open/t0{}/1.jpg'.format(i),0)\n",
    "    else:\n",
    "        img = cv2.imread('./Open/t{}/1.jpg'.format(i), 0)\n",
    "    img = cv2.resize(img, dsize=(0,0), fx = 0.125, fy = 0.275, interpolation=cv2.INTER_LINEAR)\n",
    "    h = img.shape[0]\n",
    "    w = img.shape[1]\n",
    "    x = int(w/2)\n",
    "    y = int(h/2)\n",
    "\n",
    "    img = img[y-int(h/6):y+int(h/6), x-int(w/3):x+int(w/2)]\n",
    "\n",
    "    cimg = cv2.cvtColor(img,cv2.COLOR_GRAY2BGR)\n",
    "    circles = cv2.HoughCircles(img,cv2.HOUGH_GRADIENT,1,600,\n",
    "                                    param1=50,param2=25,minRadius=170,maxRadius=180)\n",
    "    circles = np.uint16(np.around(circles))\n",
    "    \n",
    "    if len(circles) == 1:\n",
    "        x, y, r = circles[0][0]\n",
    "#         print x, y, r\n",
    "        mask = np.zeros((img.shape[0],img.shape[1]),dtype=np.uint8)\n",
    "        cv2.circle(mask,(x,y),r,(255,255,255),-1,8,0)\n",
    "#         cv2.imwrite(argv[2],mask)\n",
    "        out = img*mask\n",
    "        white = 255-mask\n",
    "        cv2.imwrite('./circles_crop2/3rd/{}.png'.format(i),out+white)\n",
    "\n",
    "#     for j in circles[0,:]:\n",
    "#         cv2.circle(cimg,(j[0],j[1]),j[2],(0,255,0),2)\n",
    "\n",
    "#     cv2.imshow('detected circles',cimg)\n",
    "    cv2.waitKey(0)\n",
    "    cv2.destroyAllWindows()"
   ]
  },
  {
   "cell_type": "code",
   "execution_count": 18,
   "id": "8c69fc31",
   "metadata": {},
   "outputs": [],
   "source": [
    "import numpy as np\n",
    "\n",
    "# for i in range(1, 31):\n",
    "img = cv2.imread('./Open/t01/1.jpg', 0)\n",
    "img = cv2.resize(img, dsize=(0,0), fx = 0.125, fy = 0.275, interpolation=cv2.INTER_LINEAR)\n",
    "h = img.shape[0]\n",
    "w = img.shape[1]\n",
    "x = int(w/2)\n",
    "y = int(h/2)\n",
    "\n",
    "img = img[y-int(h/6):y+int(h/6), x-int(w/3):x+int(w/2)]\n",
    "\n",
    "cimg = cv2.cvtColor(img,cv2.COLOR_GRAY2BGR)\n",
    "circles = cv2.HoughCircles(img,cv2.HOUGH_GRADIENT,1,600,\n",
    "                                param1=50,param2=25,minRadius=140,maxRadius=160)\n",
    "circles = np.uint16(np.around(circles))\n",
    "\n",
    "#     if len(circles) == 1:\n",
    "#         x, y, r = circles[0][0]\n",
    "# #         print x, y, r\n",
    "#         mask = np.zeros((img.shape[0],img.shape[1]),dtype=np.uint8)\n",
    "#         cv2.circle(mask,(x,y),r,(255,255,255),-1,8,0)\n",
    "# #         cv2.imwrite(argv[2],mask)\n",
    "#         out = img*mask\n",
    "#         white = 255-mask\n",
    "#         cv2.imwrite('./circles_crop2/3rd/{}.png'.format(i),out+white)\n",
    "\n",
    "for j in circles[0,:]:\n",
    "    cv2.circle(cimg,(j[0],j[1]),j[2],(0,255,0),2)\n",
    "\n",
    "cv2.imshow('detected circles',cimg)\n",
    "cv2.waitKey(0)\n",
    "cv2.destroyAllWindows()"
   ]
  },
  {
   "cell_type": "code",
   "execution_count": 10,
   "id": "182ae0ed",
   "metadata": {},
   "outputs": [],
   "source": [
    "#은근 잘보임\n",
    "import cv2\n",
    "\n",
    "image=cv2.imread(\"./test/18.png\")\n",
    "# image = cv2.resize(image, dsize=(0,0), fx = 0.25, fy = 0.25, interpolation=cv2.INTER_LINEAR)\n",
    "gray=cv2.GaussianBlur(image,(7,7),0)\n",
    "# cv2.imshow('GaussianBlur',gray)\n",
    "\n",
    "#Canny\n",
    "edged=cv2.Canny(gray,50,50)\n",
    "edged=cv2.dilate(edged,None,iterations=1)\n",
    "edged=cv2.erode(edged, None, iterations=1)\n",
    "cv2.imshow('edged',edged)\n",
    "\n",
    "cv2.waitKey(0)\n",
    "cv2.destroyAllWindows()"
   ]
  },
  {
   "cell_type": "code",
   "execution_count": 39,
   "id": "30ec805d",
   "metadata": {
    "scrolled": true
   },
   "outputs": [],
   "source": [
    "import cv2\n",
    "import numpy as np\n",
    "\n",
    "for i in range(1, 31):\n",
    "    if(i < 10):\n",
    "        src = cv2.imread('./Open/t0{}/4.jpg'.format(i))\n",
    "    else:\n",
    "        src = cv2.imread('./Open/t{}/4.jpg'.format(i))\n",
    "    resized = cv2.resize(src, dsize=(0,0), fx = 0.25, fy = 0.25, interpolation=cv2.INTER_LINEAR)\n",
    "\n",
    "    x, y, r = 515, 376, 350\n",
    "#     circle = cv2.circle(resized, (x, y), r, (255,255,255), 1)\n",
    "    # cv2.imshow(\"img\", resized)\n",
    "\n",
    "    rectX = (x - r) \n",
    "    rectY = (y - r)\n",
    "    # print(rectY+2*r, rectX+2*r)\n",
    "    crop_img = resized[rectY:rectY+2*r, rectX:rectX+2*r]\n",
    "#     cv2.imshow(\"crop\", crop_img)\n",
    "    hsv = cv2.cvtColor(crop_img, cv2.COLOR_BGR2HSV)\n",
    "    # cv2.imshow(\"hsv\", hsv)\n",
    "    white_out = cv2.inRange(hsv, (15, 100, 20), (20, 130, 200))\n",
    "    #white_out = cv2.inRange(hsv, (10, 100, 20), (20, 255, 200))\n",
    "#     cv2.imshow(\"white_out\", white_out)\n",
    "    cv2.imwrite('./result2/{}.png'.format(i), white_out)\n",
    "\n",
    "    cv2.waitKey()\n",
    "    cv2.destroyAllWindows()"
   ]
  },
  {
   "cell_type": "code",
   "execution_count": 4,
   "id": "b914b564",
   "metadata": {},
   "outputs": [
    {
     "ename": "TypeError",
     "evalue": "'tuple' object is not callable",
     "output_type": "error",
     "traceback": [
      "\u001b[1;31m---------------------------------------------------------------------------\u001b[0m",
      "\u001b[1;31mTypeError\u001b[0m                                 Traceback (most recent call last)",
      "\u001b[1;31mTypeError\u001b[0m: 'tuple' object is not callable"
     ]
    },
    {
     "ename": "TypeError",
     "evalue": "'tuple' object is not callable",
     "output_type": "error",
     "traceback": [
      "\u001b[1;31m---------------------------------------------------------------------------\u001b[0m",
      "\u001b[1;31mTypeError\u001b[0m                                 Traceback (most recent call last)",
      "\u001b[1;31mTypeError\u001b[0m: 'tuple' object is not callable"
     ]
    }
   ],
   "source": [
    "import cv2\n",
    "\n",
    "src = cv2.imread('./Open/t01/4.jpg')\n",
    "src = cv2.resize(src, dsize=(0,0), fx = 0.25, fy = 0.25, interpolation=cv2.INTER_LINEAR)\n",
    "\n",
    "if src is None:\n",
    "    print('Image load failed!')\n",
    "    sys.exit()\n",
    "    \n",
    "src_hsv = cv2.cvtColor(src, cv2.COLOR_BGR2HSV) # BGR -> HSV 로 변경(색상 검출에 효율적)\n",
    "\n",
    "# 트랙바 콜백 함수 생성\n",
    "def on_trackbar(pos):\n",
    "    hmin = cv2.getTrackbarPos('H_min', 'dst') # 트랙바의 위치를 받아옴 (h_min 값)\n",
    "    hmax = cv2.getTrackbarPos('H_max', 'dst')\n",
    "    smin = cv2.getTrackbarPos('S_min', 'dst') # 트랙바의 위치를 받아옴 (h_min 값)\n",
    "    smax = cv2.getTrackbarPos('S_max', 'dst')\n",
    "    vmin = cv2.getTrackbarPos('V_min', 'dst') # 트랙바의 위치를 받아옴 (h_min 값)\n",
    "    vmax = cv2.getTrackbarPos('V_max', 'dst')\n",
    "    \n",
    "    dst = cv2.inRange(src_hsv, (hmin, smin, vmin), (hmax, smax, vmax))\n",
    "    cv2.imshow('dst', dst)\n",
    "    \n",
    "cv2.imshow('src', src)\n",
    "cv2.namedWindow('dst')\n",
    "\n",
    "# 트랙바 콜백 함수 등록\n",
    "cv2.createTrackbar('H_min', 'dst', 0, 255, on_trackbar)\n",
    "cv2.createTrackbar('H_max', 'dst', 0, 255, on_trackbar)\n",
    "cv2.createTrackbar('S_min', 'dst', 0, 255, on_trackbar)\n",
    "cv2.createTrackbar('S_max', 'dst', 0, 255, on_trackbar)\n",
    "cv2.createTrackbar('V_min', 'dst', 0, 255, on_trackbar)\n",
    "cv2.createTrackbar('V_max', 'dst', 0, 255, on_trackbar)\n",
    "on_trackbar(0)\n",
    "\n",
    "cv2.waitKey()\n",
    "\n",
    "cv2.destroyAllWindows()"
   ]
  },
  {
   "cell_type": "code",
   "execution_count": 42,
   "id": "47702920",
   "metadata": {},
   "outputs": [
    {
     "ename": "KeyboardInterrupt",
     "evalue": "",
     "output_type": "error",
     "traceback": [
      "\u001b[1;31m---------------------------------------------------------------------------\u001b[0m",
      "\u001b[1;31mKeyboardInterrupt\u001b[0m                         Traceback (most recent call last)",
      "\u001b[1;32m~\\AppData\\Local\\Temp/ipykernel_6768/235251421.py\u001b[0m in \u001b[0;36m<module>\u001b[1;34m\u001b[0m\n\u001b[0;32m      2\u001b[0m     \u001b[1;32mfor\u001b[0m \u001b[0ms\u001b[0m \u001b[1;32min\u001b[0m \u001b[0mrange\u001b[0m\u001b[1;33m(\u001b[0m\u001b[1;36m101\u001b[0m\u001b[1;33m,\u001b[0m \u001b[1;36m255\u001b[0m\u001b[1;33m,\u001b[0m \u001b[1;36m5\u001b[0m\u001b[1;33m)\u001b[0m\u001b[1;33m:\u001b[0m\u001b[1;33m\u001b[0m\u001b[1;33m\u001b[0m\u001b[0m\n\u001b[0;32m      3\u001b[0m         \u001b[1;32mfor\u001b[0m \u001b[0mv\u001b[0m \u001b[1;32min\u001b[0m \u001b[0mrange\u001b[0m\u001b[1;33m(\u001b[0m\u001b[1;36m21\u001b[0m\u001b[1;33m,\u001b[0m \u001b[1;36m200\u001b[0m\u001b[1;33m,\u001b[0m \u001b[1;36m5\u001b[0m\u001b[1;33m)\u001b[0m\u001b[1;33m:\u001b[0m\u001b[1;33m\u001b[0m\u001b[1;33m\u001b[0m\u001b[0m\n\u001b[1;32m----> 4\u001b[1;33m             \u001b[0msrc\u001b[0m \u001b[1;33m=\u001b[0m \u001b[0mcv2\u001b[0m\u001b[1;33m.\u001b[0m\u001b[0mimread\u001b[0m\u001b[1;33m(\u001b[0m\u001b[1;34m'./Open/t01/4.jpg'\u001b[0m\u001b[1;33m.\u001b[0m\u001b[0mformat\u001b[0m\u001b[1;33m(\u001b[0m\u001b[0mi\u001b[0m\u001b[1;33m)\u001b[0m\u001b[1;33m)\u001b[0m\u001b[1;33m\u001b[0m\u001b[1;33m\u001b[0m\u001b[0m\n\u001b[0m\u001b[0;32m      5\u001b[0m             \u001b[0mresized\u001b[0m \u001b[1;33m=\u001b[0m \u001b[0mcv2\u001b[0m\u001b[1;33m.\u001b[0m\u001b[0mresize\u001b[0m\u001b[1;33m(\u001b[0m\u001b[0msrc\u001b[0m\u001b[1;33m,\u001b[0m \u001b[0mdsize\u001b[0m\u001b[1;33m=\u001b[0m\u001b[1;33m(\u001b[0m\u001b[1;36m0\u001b[0m\u001b[1;33m,\u001b[0m\u001b[1;36m0\u001b[0m\u001b[1;33m)\u001b[0m\u001b[1;33m,\u001b[0m \u001b[0mfx\u001b[0m \u001b[1;33m=\u001b[0m \u001b[1;36m0.25\u001b[0m\u001b[1;33m,\u001b[0m \u001b[0mfy\u001b[0m \u001b[1;33m=\u001b[0m \u001b[1;36m0.25\u001b[0m\u001b[1;33m,\u001b[0m \u001b[0minterpolation\u001b[0m\u001b[1;33m=\u001b[0m\u001b[0mcv2\u001b[0m\u001b[1;33m.\u001b[0m\u001b[0mINTER_LINEAR\u001b[0m\u001b[1;33m)\u001b[0m\u001b[1;33m\u001b[0m\u001b[1;33m\u001b[0m\u001b[0m\n\u001b[0;32m      6\u001b[0m             \u001b[0mrectX\u001b[0m \u001b[1;33m=\u001b[0m \u001b[1;33m(\u001b[0m\u001b[0mx\u001b[0m \u001b[1;33m-\u001b[0m \u001b[0mr\u001b[0m\u001b[1;33m)\u001b[0m\u001b[1;33m\u001b[0m\u001b[1;33m\u001b[0m\u001b[0m\n",
      "\u001b[1;31mKeyboardInterrupt\u001b[0m: "
     ]
    }
   ],
   "source": [
    "for h in range(19, 21):\n",
    "    for s in range(101, 255, 5):\n",
    "        for v in range(21, 200, 5):\n",
    "            src = cv2.imread('./Open/t01/4.jpg'.format(i))\n",
    "            resized = cv2.resize(src, dsize=(0,0), fx = 0.25, fy = 0.25, interpolation=cv2.INTER_LINEAR)\n",
    "            rectX = (x - r)\n",
    "            rectY = (y - r)\n",
    "            crop_img = resized[rectY:rectY+2*r, rectX:rectX+2*r]\n",
    "            hsv = cv2.cvtColor(crop_img, cv2.COLOR_BGR2HSV)\n",
    "            white_out = cv2.inRange(hsv, (10, 100, 20), (h, s, v))\n",
    "            cv2.imwrite('./result3/{}{}{}.png'.format(h,s,v), white_out)\n",
    "            \n",
    "            cv2.waitKey()\n",
    "            cv2.destroyAllWindows()"
   ]
  },
  {
   "cell_type": "code",
   "execution_count": 213,
   "id": "b7a0f9c3",
   "metadata": {},
   "outputs": [],
   "source": [
    "for i in range(1, 31):\n",
    "    if(i < 10):\n",
    "        src = cv2.imread('./Open/t0{}/1.jpg'.format(i))\n",
    "    else:\n",
    "        src = cv2.imread('./Open/t{}/1.jpg'.format(i))\n",
    "    resized = cv2.resize(src, dsize=(0,0), fx = 0.25, fy = 0.25, interpolation=cv2.INTER_LINEAR)\n",
    "    \n",
    "    h = resized.shape[0]\n",
    "    w = resized.shape[1]\n",
    "    x = int(w/2)\n",
    "    y = int(h/2)\n",
    "\n",
    "    resized = resized[y-int(h/7):y+int(h/6), x-int(w/3):x+int(w/2.5)]\n",
    "    cv2.imwrite('./test/{}.png'.format(i), resized)\n",
    "\n",
    "    cv2.waitKey()\n",
    "    cv2.destroyAllWindows()"
   ]
  },
  {
   "cell_type": "markdown",
   "id": "232f4b16",
   "metadata": {},
   "source": [
    "roi (167, 16, 702, 717)"
   ]
  },
  {
   "cell_type": "code",
   "execution_count": 21,
   "id": "f8f733a4",
   "metadata": {},
   "outputs": [
    {
     "name": "stdout",
     "output_type": "stream",
     "text": [
      "[[[0 0 0]]]\n",
      "[[[  0 255 255]]]\n"
     ]
    }
   ],
   "source": [
    "color = [0, 0, 0]\n",
    "pixel = np.uint8([[color]])\n",
    "hsv = cv2.cvtColor(pixel, cv2.COLOR_BGR2HSV)\n",
    "print(hsv)\n",
    "\n",
    "color2 = [0, 0, 255]\n",
    "pixel2 = np.uint8([[color2]])\n",
    "hsv2 = cv2.cvtColor(pixel2, cv2.COLOR_BGR2HSV)\n",
    "print(hsv2)"
   ]
  },
  {
   "cell_type": "code",
   "execution_count": 37,
   "id": "c34b5d9a",
   "metadata": {},
   "outputs": [
    {
     "name": "stdout",
     "output_type": "stream",
     "text": [
      "[[0 0 0 ... 0 0 0]]\n",
      "[[0 0 0 ... 0 0 0]]\n",
      "[[  0   0   0 ...   0   0 255]]\n",
      "[[0 0 0 ... 0 0 0]]\n",
      "[[0 0 0 ... 0 0 0]]\n",
      "[[0 0 0 ... 0 0 0]]\n",
      "[[0 0 0 ... 0 0 0]]\n",
      "[[  0   0 255 ...   0   0   0]]\n",
      "[[0 0 0 ... 0 0 0]]\n",
      "[[0 0 0 ... 0 0 0]]\n",
      "[[0 0 0 ... 0 0 0]]\n",
      "[[0 0 0 ... 0 0 0]]\n",
      "[[  0   0   0 ... 255 255 255]]\n",
      "[[0 0 0 ... 0 0 0]]\n",
      "[[0 0 0 ... 0 0 0]]\n",
      "[[0 0 0 ... 0 0 0]]\n",
      "[[0 0 0 ... 0 0 0]]\n",
      "[[0 0 0 ... 0 0 0]]\n",
      "[[0 0 0 ... 0 0 0]]\n",
      "[[0 0 0 ... 0 0 0]]\n",
      "[[0 0 0 ... 0 0 0]]\n",
      "[[0 0 0 ... 0 0 0]]\n",
      "[[0 0 0 ... 0 0 0]]\n",
      "[[0 0 0 ... 0 0 0]]\n",
      "[[0 0 0 ... 0 0 0]]\n",
      "[[0 0 0 ... 0 0 0]]\n",
      "[[  0   0   0 ...   0   0 255]]\n",
      "[[0 0 0 ... 0 0 0]]\n",
      "[[0 0 0 ... 0 0 0]]\n",
      "[[0 0 0 ... 0 0 0]]\n"
     ]
    }
   ],
   "source": [
    "import numpy as np\n",
    "import cv2\n",
    "import os\n",
    "IMG_DIR = './result'\n",
    "for img in os.listdir(IMG_DIR):\n",
    "        img_array = cv2.imread(os.path.join(IMG_DIR,img), cv2.IMREAD_GRAYSCALE)\n",
    "        img_array = (img_array.flatten())\n",
    "        img_array  = img_array.reshape(-1, 1).T\n",
    "        print(img_array)\n",
    "        with open('output.csv', 'ab') as f:\n",
    "            np.savetxt(f, img_array, delimiter=\",\")"
   ]
  }
 ],
 "metadata": {
  "kernelspec": {
   "display_name": "Python 3 (ipykernel)",
   "language": "python",
   "name": "python3"
  },
  "language_info": {
   "codemirror_mode": {
    "name": "ipython",
    "version": 3
   },
   "file_extension": ".py",
   "mimetype": "text/x-python",
   "name": "python",
   "nbconvert_exporter": "python",
   "pygments_lexer": "ipython3",
   "version": "3.9.7"
  }
 },
 "nbformat": 4,
 "nbformat_minor": 5
}
