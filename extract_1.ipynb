{
 "cells": [
  {
   "cell_type": "code",
   "execution_count": null,
   "metadata": {},
   "outputs": [],
   "source": [
    "import cv2, numpy as np\n",
    "\n",
    "img = cv2.imread('./Open/t12/5.jpg')\n",
    "\n",
    "x,y,w,h\t= cv2.selectROI('img', img, False)\n",
    "if w and h:\n",
    "    roi = img[y:y+h, x:x+w]\n",
    "    cv2.imshow('cropped', roi)  # ROI 지정 영역을 새창으로 표시\n",
    "    cv2.moveWindow('cropped', 0, 0) # 새창을 화면 좌측 상단에 이동\n",
    "    cv2.imwrite('./cropped2.jpg', roi)   # ROI 영역만 파일로 저장\n",
    "\n",
    "cv2.waitKey(0)\n",
    "cv2.destroyAllWindows()"
   ]
  },
  {
   "cell_type": "code",
   "execution_count": 61,
   "metadata": {},
   "outputs": [],
   "source": [
    "import cv2\n",
    "\n",
    "src = cv2.imread('./Open/t27/4.jpg')\n",
    "src = cv2.resize(src, dsize=(0,0), fx = 0.25, fy = 0.25, interpolation=cv2.INTER_LINEAR)\n",
    "\n",
    "if src is None:\n",
    "    print('Image load failed!')\n",
    "    sys.exit()\n",
    "    \n",
    "src_hsv = cv2.cvtColor(src, cv2.COLOR_BGR2HSV) # BGR -> HSV 로 변경(색상 검출에 효율적)\n",
    "\n",
    "# 트랙바 콜백 함수 생성\n",
    "def on_trackbar(pos):\n",
    "    hmin = cv2.getTrackbarPos('H_min', 'dst') # 트랙바의 위치를 받아옴 (h_min 값)\n",
    "    hmax = cv2.getTrackbarPos('H_max', 'dst')\n",
    "    smin = cv2.getTrackbarPos('S_min', 'dst') # 트랙바의 위치를 받아옴 (h_min 값)\n",
    "    smax = cv2.getTrackbarPos('S_max', 'dst')\n",
    "    vmin = cv2.getTrackbarPos('V_min', 'dst') # 트랙바의 위치를 받아옴 (h_min 값)\n",
    "    vmax = cv2.getTrackbarPos('V_max', 'dst')\n",
    "    \n",
    "    dst = cv2.inRange(src_hsv, (hmin, smin, vmin), (hmax, smax, vmax))\n",
    "    cv2.imshow('dst', dst)\n",
    "    \n",
    "# cv2.imshow('src', src)\n",
    "cv2.namedWindow('dst')\n",
    "\n",
    "# 트랙바 콜백 함수 등록\n",
    "cv2.createTrackbar('H_min', 'dst', 0, 255, on_trackbar)\n",
    "cv2.createTrackbar('H_max', 'dst', 0, 255, on_trackbar)\n",
    "cv2.createTrackbar('S_min', 'dst', 0, 255, on_trackbar)\n",
    "cv2.createTrackbar('S_max', 'dst', 0, 255, on_trackbar)\n",
    "cv2.createTrackbar('V_min', 'dst', 0, 255, on_trackbar)\n",
    "cv2.createTrackbar('V_max', 'dst', 0, 255, on_trackbar)\n",
    "on_trackbar(0)\n",
    "\n",
    "cv2.waitKey()\n",
    "\n",
    "cv2.destroyAllWindows()"
   ]
  },
  {
   "cell_type": "code",
   "execution_count": 78,
   "metadata": {},
   "outputs": [],
   "source": [
    "import cv2\n",
    "import numpy as np\n",
    "\n",
    "for i in range(1, 31):\n",
    "    if(i < 10):\n",
    "        src = cv2.imread('./Open/t0{}/1.jpg'.format(i))\n",
    "    else:\n",
    "        src = cv2.imread('./Open/t{}/1.jpg'.format(i))\n",
    "    resized = cv2.resize(src, dsize=(0,0), fx = 0.25, fy = 0.25, interpolation=cv2.INTER_LINEAR)\n",
    "    h = resized.shape[0]\n",
    "    w = resized.shape[1]\n",
    "    x = int(w/2)\n",
    "    y = int(h/2)\n",
    "\n",
    "    resized = resized[y-int(h/4):y+int(h/4), x-int(w/4):x+int(w/4)]\n",
    "\n",
    "    hsv = cv2.cvtColor(resized, cv2.COLOR_BGR2HSV)\n",
    "#     white_out = cv2.inRange(hsv, (15, 0, 185), (43, 145, 221))\n",
    "    white_out = cv2.inRange(hsv, (15, 0, 210), (43, 145, 255))\n",
    "    if(i < 10):\n",
    "        cv2.imwrite('./result1_2/0{}.png'.format(i), white_out)\n",
    "    else:\n",
    "        cv2.imwrite('./result1_2/{}.png'.format(i), white_out)\n",
    "    cv2.waitKey()\n",
    "    cv2.destroyAllWindows()"
   ]
  },
  {
   "cell_type": "code",
   "execution_count": 79,
   "metadata": {},
   "outputs": [],
   "source": [
    "import os\n",
    "IMG_DIR = './result1_2'\n",
    "\n",
    "from matplotlib.image import imread\n",
    "from PIL import Image\n",
    "  \n",
    "i = 1\n",
    "for img in os.listdir(IMG_DIR):\n",
    "    img = Image.open(os.path.join(IMG_DIR,img))\n",
    "    img_array = np.array(img)\n",
    "    \n",
    "    with open('./result1_csv/{}.csv'.format(i), 'ab') as f:\n",
    "        np.savetxt(f, img_array, fmt='%d', delimiter=\",\")\n",
    "    i+=1"
   ]
  },
  {
   "cell_type": "code",
   "execution_count": 81,
   "metadata": {},
   "outputs": [],
   "source": [
    "# import pandas as pd\n",
    "\n",
    "# csv = pd.read_csv(\"./result4_csv/1.csv\")\n",
    "result = []\n",
    "\n",
    "for i in range(1, 31):\n",
    "    array = np.loadtxt('./result1_csv/{}.csv'.format(i), delimiter = ',', dtype = 'int')\n",
    "    count_arr = [0, 0]\n",
    "    for arr in array:\n",
    "        num_zeros = (arr == 0).sum()\n",
    "        num_ones = (arr == 1).sum()\n",
    "        num_255s = (arr == 255).sum()\n",
    "        count_arr[0] += num_zeros\n",
    "        count_arr[1] += num_ones\n",
    "        count_arr[1] += num_255s\n",
    "\n",
    "    result.append(count_arr)\n",
    "    \n",
    "# print(result)"
   ]
  },
  {
   "cell_type": "code",
   "execution_count": 82,
   "metadata": {},
   "outputs": [],
   "source": [
    "import pandas as pd\n",
    "\n",
    "df = pd.DataFrame(result)\n",
    "df.to_csv(\"./result1.csv\")"
   ]
  }
 ],
 "metadata": {
  "kernelspec": {
   "display_name": "Python 3",
   "language": "python",
   "name": "python3"
  },
  "language_info": {
   "codemirror_mode": {
    "name": "ipython",
    "version": 3
   },
   "file_extension": ".py",
   "mimetype": "text/x-python",
   "name": "python",
   "nbconvert_exporter": "python",
   "pygments_lexer": "ipython3",
   "version": "3.8.3"
  }
 },
 "nbformat": 4,
 "nbformat_minor": 4
}
